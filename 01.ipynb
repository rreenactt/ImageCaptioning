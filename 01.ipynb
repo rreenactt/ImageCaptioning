{
 "cells": [
  {
   "cell_type": "markdown",
   "id": "171bf892",
   "metadata": {},
   "source": [
    "멀티모달 : 이미지 캡셔닝\n",
    "```\n",
    "핵심 구성요소\n",
    "    - 이미지 인코더 : 이미지의 시간적인 특징\n",
    "    - 언어 디코더 : 추출된 특징을 바탕으로 문장을 생성\n",
    "```\n",
    "이미지 인코더\n",
    "```\n",
    "이미지를 분석해서 중요한 시각적 정보추출\n",
    "사용기술 : CNN ViT(Vision Transformer)\n",
    "    CNN : 이미지의 픽셀데이터를 물체, 색상, 텍스처, 위치등의 특징을 추출\n",
    "    ViT : 이미지를 패치단위로 나눠서  Transformer 구조로 처리 -> 추세\n",
    "```\n",
    "언어 디코더\n",
    "```\n",
    "이미지의 특징을 받아서 자연스러운 문장을 생성 -> 시계열 데이터처럼 처리\n",
    "사용기술 : RNN LSTM Transformer\n",
    "확률분포를 이용해서 단어를 하나씩 선택해 문장을 생성\n",
    "```"
   ]
  },
  {
   "cell_type": "code",
   "execution_count": 1,
   "id": "09f6e1ae",
   "metadata": {},
   "outputs": [
    {
     "name": "stderr",
     "output_type": "stream",
     "text": [
      "'apt'��(��) ���� �Ǵ� �ܺ� ����, ������ �� �ִ� ���α׷�, �Ǵ�\n",
      "��ġ ������ �ƴմϴ�.\n"
     ]
    }
   ],
   "source": [
    "# 리눅스에 패키지 설치 특정 cyDNN 버전 설치\n",
    "!apt install --allow-change-held-packages libcudnn8 = 8.1.0.77-1+cuda11.2"
   ]
  },
  {
   "cell_type": "code",
   "execution_count": 7,
   "id": "33bd02a6",
   "metadata": {},
   "outputs": [
    {
     "name": "stderr",
     "output_type": "stream",
     "text": [
      "WARNING: Skipping tensorflow as it is not installed.\n",
      "WARNING: Skipping estimator as it is not installed.\n",
      "WARNING: Skipping keras as it is not installed.\n"
     ]
    }
   ],
   "source": [
    "!pip uninstall -y tensorflow estimator keras"
   ]
  },
  {
   "cell_type": "code",
   "execution_count": 8,
   "id": "855cb361",
   "metadata": {},
   "outputs": [
    {
     "name": "stderr",
     "output_type": "stream",
     "text": [
      "ERROR: Could not find a version that satisfies the requirement tensorflow_text (from versions: none)\n",
      "ERROR: No matching distribution found for tensorflow_text\n"
     ]
    }
   ],
   "source": [
    "!pip install -U tensorflow_text tensorflow tensorflow_datasets"
   ]
  },
  {
   "cell_type": "code",
   "execution_count": null,
   "id": "80dbb6ad",
   "metadata": {},
   "outputs": [
    {
     "name": "stderr",
     "output_type": "stream",
     "text": [
      "ERROR: Could not find a version that satisfies the requirement Einoptino (from versions: none)\n",
      "ERROR: No matching distribution found for Einoptino\n"
     ]
    }
   ],
   "source": [
    "!pip install "
   ]
  }
 ],
 "metadata": {
  "kernelspec": {
   "display_name": "imgcap",
   "language": "python",
   "name": "python3"
  },
  "language_info": {
   "codemirror_mode": {
    "name": "ipython",
    "version": 3
   },
   "file_extension": ".py",
   "mimetype": "text/x-python",
   "name": "python",
   "nbconvert_exporter": "python",
   "pygments_lexer": "ipython3",
   "version": "3.10.16"
  }
 },
 "nbformat": 4,
 "nbformat_minor": 5
}
